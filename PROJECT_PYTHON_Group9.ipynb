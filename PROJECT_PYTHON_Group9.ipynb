{
 "cells": [
  {
   "cell_type": "markdown",
   "id": "379d2746",
   "metadata": {},
   "source": [
    "# <span style=\"color:#FF0000;\">License Plate Detection - Python Project</span>\n"
   ]
  },
  {
   "cell_type": "markdown",
   "id": "45fc235a",
   "metadata": {},
  
  },
  {
   "cell_type": "markdown",
   "id": "c44c57af",
   "metadata": {},
   "source": [
    "## <span style=\"color:#8B4513;\">1. Project Overview</span>\n",
    "- **Objective:** Develop a Python program to detect Senegalese license plates in a string.\n",
    "- **License Plate Formats in Senegal:**\n",
    "  - XY-abcd-T (9 characters)\n",
    "  - XY-abcd-ZT (11 characters)\n",
    "  - **X, Y, Z, T** are letters from the alphabet.\n",
    "  - **a, b, c, d** are digits.\n"
   ]
  },
  {
   "cell_type": "markdown",
   "id": "0fec2fbe",
   "metadata": {},
   "source": [
    "<div style=\"display: flex; justify-content: space-between;\">\n",
    "    <img src=\"2.webp\" alt=\"Texte alternatif\" style=\"width: 45%; height: auto;\"/>\n",
    "    <img src=\"3.webp\" alt=\"Texte alternatif\" style=\"width: 45%; height: auto;\"/>\n",
    "</div>\n"
   ]
  },
  {
   "cell_type": "markdown",
   "id": "a3409262",
   "metadata": {},
   "source": [
    "## <span style=\"color:#8B4513;\">2. How the Program Works</span>\n",
    "- **User Input:** The user enters a string representing a license plate.\n",
    "- **Format Validation:**\n",
    "  - The program checks if the plate matches one of the two formats.\n",
    "  - Each part is validated: letters and digits are correctly identified.\n",
    "- **Output:** The program returns a message indicating whether the plate is valid or not.\n"
   ]
  },
  {
   "cell_type": "markdown",
   "id": "6086c804",
   "metadata": {},
   "source": [
    "## <span style=\"color:#8B4513;\">3. Main Algorithm</span>\n",
    "- **Process Steps:**\n",
    "  1. Check the length of the string.\n",
    "  2. Validate the letters in the expected positions.\n",
    "  3. Validate the digits in the expected positions.\n",
    "  4. Check the correct use of hyphens.\n"
   ]
  },
  {
   "cell_type": "markdown",
   "id": "2c04699e",
   "metadata": {},
   "source": [
    "## <span style=\"color:#8B4513;\">4. Simplified Python Code</span>\n",
    "- The code is structured into three main functions:\n",
    "  - **`is_letter(c)`**: Checks if a character is an uppercase letter.\n",
    "  - **`is_digit(c)`**: Checks if a character is a digit.\n",
    "  - **`is_valid_license_plate(plate)`**: Validates the plate based on the two expected formats.\n"
   ]
  },
  {
   "cell_type": "code",
   "execution_count": 16,
   "id": "fc0ab60d",
   "metadata": {},
   "outputs": [],
   "source": [
    "import tkinter as tk\n",
    "from tkinter import messagebox\n",
    "\n",
    "# Check if the character is an uppercase letter\n",
    "def is_letter(c):\n",
    "    return 'A' <= c <= 'Z'\n",
    "\n",
    "# Check if the character is a digit\n",
    "def is_digit(c):\n",
    "    return '0' <= c <= '9'\n",
    "\n",
    "# Function to validate license plates\n",
    "def is_valid_license_plate(plate):\n",
    "    if len(plate) == 9:\n",
    "        return (is_letter(plate[0]) and is_letter(plate[1]) and  # XY\n",
    "                plate[2] == '-' and                              # -\n",
    "                is_digit(plate[3]) and is_digit(plate[4]) and is_digit(plate[5]) and is_digit(plate[6]) and  # abcd\n",
    "                plate[7] == '-' and                              # -\n",
    "                is_letter(plate[8]))                             # T\n",
    "\n",
    "    if len(plate) == 10:\n",
    "        return (is_letter(plate[0]) and is_letter(plate[1]) and  # XY\n",
    "                plate[2] == '-' and                              # -\n",
    "                is_digit(plate[3]) and is_digit(plate[4]) and is_digit(plate[5]) and is_digit(plate[6]) and  # abcd\n",
    "                plate[7] == '-' and                              # -\n",
    "                is_letter(plate[8]) and is_letter(plate[9]))      # ZT\n",
    "    return False\n",
    "\n",
    "# Function that checks the license plate and displays a message\n",
    "def check_plate():\n",
    "    plate = entry.get()\n",
    "    if is_valid_license_plate(plate):\n",
    "        messagebox.showinfo(\"Result\", f\"The license plate '{plate}' is valid.\")\n",
    "    else:\n",
    "        messagebox.showerror(\"Error\", f\"The license plate '{plate}' is not valid.\")\n",
    "\n",
    "# Create the user interface with Tkinter\n",
    "root = tk.Tk()\n",
    "root.title(\"License Plate Verification\")\n",
    "\n",
    "# Set window size and disable resizing\n",
    "root.geometry(\"600x400\")\n",
    "root.resizable(False, False)\n",
    "\n",
    "# Background color\n",
    "root.configure(bg=\"#2C3E50\")  # Dark modern background\n",
    "\n",
    "# Frame for input and button\n",
    "frame = tk.Frame(root, bg=\"#34495E\", padx=40, pady=40)\n",
    "frame.pack(pady=50)\n",
    "\n",
    "# Label for the input field\n",
    "label = tk.Label(frame, text=\"Enter License Plate:\", bg=\"#34495E\", fg=\"white\", font=(\"Arial\", 24, \"bold\"))\n",
    "label.pack(pady=15)\n",
    "\n",
    "# Input field for license plate\n",
    "entry = tk.Entry(frame, font=(\"Arial\", 22), bd=2, relief=\"solid\", width=12)\n",
    "entry.pack(pady=10)\n",
    "\n",
    "# Verify button\n",
    "button = tk.Button(frame, text=\"Verify\", command=check_plate, bg=\"#E74C3C\", fg=\"white\", font=(\"Arial\", 20, \"bold\"), relief=\"flat\")\n",
    "button.pack(pady=20, ipadx=10, ipady=5)\n",
    "\n",
    "# Run the application\n",
    "root.mainloop()\n"
   ]
  },
  {
   "cell_type": "markdown",
   "id": "bd9c1416",
   "metadata": {},
   "source": [
    "## <span style=\"color:#8B4513;\">5. Example Usage</span>\n",
    "- **Input:** `XY-5262-ZY`\n",
    "- **Result:** \"The license plate 'XY-5262-ZY' is valid.\"\n",
    "- **Invalid Input:** `XY-52A2-ZY`\n",
    "- **Result:** \"The license plate 'XY-52A2-ZY' is not valid.\"\n"
   ]
  },
  {
   "cell_type": "markdown",
   "id": "9eb8c78b",
   "metadata": {},
   "source": [
    "## <span style=\"color:#8B4513;\">6. Conclusion</span>\n",
    "- This project demonstrates the use of Python to solve a practical problem related to license plates in Senegal.\n",
    "- It implements simple string validation concepts, offering an efficient and adaptable solution.\n"
   ]
  },
  {
   "cell_type": "markdown",
   "id": "99aa18f2",
   "metadata": {},
   "source": []
  },
  {
   "cell_type": "code",
   "execution_count": 1,
   "id": "7ec34026",
   "metadata": {},
   "outputs": [
    {
     "name": "stdout",
     "output_type": "stream",
     "text": [
      "Requirement already satisfied: Pillow in c:\\users\\asus\\anaconda3\\lib\\site-packages (9.4.0)\n",
      "Note: you may need to restart the kernel to use updated packages.\n"
     ]
    }
   ],
   "source": [
    "pip install Pillow"
   ]
  }
 ],
 "metadata": {
  "kernelspec": {
   "display_name": "Python 3 (ipykernel)",
   "language": "python",
   "name": "python3"
  },
  "language_info": {
   "codemirror_mode": {
    "name": "ipython",
    "version": 3
   },
   "file_extension": ".py",
   "mimetype": "text/x-python",
   "name": "python",
   "nbconvert_exporter": "python",
   "pygments_lexer": "ipython3",
   "version": "3.11.5"
  }
 },
 "nbformat": 4,
 "nbformat_minor": 5
}
